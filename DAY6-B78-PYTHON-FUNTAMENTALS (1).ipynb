{
 "cells": [
  {
   "cell_type": "code",
   "execution_count": null,
   "id": "628ea37f",
   "metadata": {},
   "outputs": [],
   "source": [
    "UNTERSTANDING THE LOOPING STATEMENTS:"
   ]
  },
  {
   "cell_type": "code",
   "execution_count": null,
   "id": "3f188e37",
   "metadata": {},
   "outputs": [],
   "source": [
    "IMPLIMENTATION OF THE FOR LOOP"
   ]
  },
  {
   "cell_type": "code",
   "execution_count": null,
   "id": "0352d4c4",
   "metadata": {},
   "outputs": [],
   "source": [
    "# Genral syntax of for loop:"
   ]
  },
  {
   "cell_type": "code",
   "execution_count": null,
   "id": "7bab90e9",
   "metadata": {},
   "outputs": [],
   "source": [
    "for tempararyvariable in mainvariable: \n",
    "    print(tempararyvariable)"
   ]
  },
  {
   "cell_type": "code",
   "execution_count": 2,
   "id": "d2e870d1",
   "metadata": {},
   "outputs": [],
   "source": [
    "# EXAMPLES:\n",
    "students =('ananya','nasrin','visesha','zeeshan','kumar','arvind')"
   ]
  },
  {
   "cell_type": "code",
   "execution_count": 3,
   "id": "dba8a173",
   "metadata": {},
   "outputs": [
    {
     "name": "stdout",
     "output_type": "stream",
     "text": [
      "('ananya', 'nasrin', 'visesha', 'zeeshan', 'kumar', 'arvind')\n"
     ]
    }
   ],
   "source": [
    "print(students)"
   ]
  },
  {
   "cell_type": "code",
   "execution_count": 4,
   "id": "64b2b714",
   "metadata": {},
   "outputs": [
    {
     "data": {
      "text/plain": [
       "tuple"
      ]
     },
     "execution_count": 4,
     "metadata": {},
     "output_type": "execute_result"
    }
   ],
   "source": [
    "type(students)"
   ]
  },
  {
   "cell_type": "code",
   "execution_count": null,
   "id": "2fedca98",
   "metadata": {},
   "outputs": [],
   "source": [
    "# REQ: there are participants in session,they regularly attend \n",
    "all the sessions and submit their github urls.Faiyaz sir wants \n",
    "to appreciate their work and effects by sending the appreciation \n",
    "message for those participantsand also sending remainder for today github urls."
   ]
  },
  {
   "cell_type": "code",
   "execution_count": 6,
   "id": "1bf48c27",
   "metadata": {},
   "outputs": [
    {
     "name": "stdout",
     "output_type": "stream",
     "text": [
      "keep up the good work,students[0].title()\n"
     ]
    }
   ],
   "source": [
    "print(f\"keep up the good work,students[0].title()\")"
   ]
  },
  {
   "cell_type": "code",
   "execution_count": 7,
   "id": "061d6322",
   "metadata": {},
   "outputs": [
    {
     "name": "stdout",
     "output_type": "stream",
     "text": [
      "keep up the good work,Ananya\n"
     ]
    }
   ],
   "source": [
    "print(f\"keep up the good work,{students[0].title()}\")"
   ]
  },
  {
   "cell_type": "code",
   "execution_count": 8,
   "id": "6de5d90a",
   "metadata": {},
   "outputs": [
    {
     "name": "stdout",
     "output_type": "stream",
     "text": [
      "keep up the good work,Nasrin\n"
     ]
    }
   ],
   "source": [
    "print(f\"keep up the good work,{students[1].title()}\")"
   ]
  },
  {
   "cell_type": "code",
   "execution_count": 9,
   "id": "bcdc56ed",
   "metadata": {},
   "outputs": [
    {
     "name": "stdout",
     "output_type": "stream",
     "text": [
      "keep up the good work,Nasrin\n",
      "do submit your githuburls to my inbox,Nasrin\n"
     ]
    }
   ],
   "source": [
    "print(f\"keep up the good work,{students[1].title()}\")\n",
    "print(f\"do submit your githuburls to my inbox,{students[1].title()}\")"
   ]
  },
  {
   "cell_type": "code",
   "execution_count": null,
   "id": "19043b5a",
   "metadata": {},
   "outputs": [],
   "source": [
    "# REQ: teacher wants to same message to all students \n",
    "it is possible with the help of for loop"
   ]
  },
  {
   "cell_type": "code",
   "execution_count": 10,
   "id": "8d4ac7a1",
   "metadata": {},
   "outputs": [
    {
     "name": "stdout",
     "output_type": "stream",
     "text": [
      "keep up the good work,ananya\n",
      "do submit your githuburls to my inbox,ananya\n",
      "keep up the good work,nasrin\n",
      "do submit your githuburls to my inbox,nasrin\n",
      "keep up the good work,visesha\n",
      "do submit your githuburls to my inbox,visesha\n",
      "keep up the good work,zeeshan\n",
      "do submit your githuburls to my inbox,zeeshan\n",
      "keep up the good work,kumar\n",
      "do submit your githuburls to my inbox,kumar\n",
      "keep up the good work,arvind\n",
      "do submit your githuburls to my inbox,arvind\n"
     ]
    }
   ],
   "source": [
    "for a in students:\n",
    "    print(f\"keep up the good work,{a}\")\n",
    "    print(f\"do submit your githuburls to my inbox,{a}\")\n",
    "    "
   ]
  },
  {
   "cell_type": "code",
   "execution_count": null,
   "id": "47e4d4fb",
   "metadata": {},
   "outputs": [],
   "source": [
    "# For enhancement of the code.....!"
   ]
  },
  {
   "cell_type": "code",
   "execution_count": 11,
   "id": "17c120d9",
   "metadata": {},
   "outputs": [
    {
     "name": "stdout",
     "output_type": "stream",
     "text": [
      "keep up the good work,ananya\n",
      "do submit your githuburls to my inbox,ananya\n",
      "\n",
      "keep up the good work,nasrin\n",
      "do submit your githuburls to my inbox,nasrin\n",
      "\n",
      "keep up the good work,visesha\n",
      "do submit your githuburls to my inbox,visesha\n",
      "\n",
      "keep up the good work,zeeshan\n",
      "do submit your githuburls to my inbox,zeeshan\n",
      "\n",
      "keep up the good work,kumar\n",
      "do submit your githuburls to my inbox,kumar\n",
      "\n",
      "keep up the good work,arvind\n",
      "do submit your githuburls to my inbox,arvind\n",
      "\n"
     ]
    }
   ],
   "source": [
    "for a in students:\n",
    "    print(f\"keep up the good work,{a}\")\n",
    "    print(f\"do submit your githuburls to my inbox,{a}\\n\")"
   ]
  },
  {
   "cell_type": "code",
   "execution_count": 12,
   "id": "884ac39b",
   "metadata": {},
   "outputs": [
    {
     "name": "stdout",
     "output_type": "stream",
     "text": [
      "keep up the good work,ananya\n",
      "\n",
      "do submit your githuburls to my inbox,ananya\n",
      "\n",
      "keep up the good work,nasrin\n",
      "\n",
      "do submit your githuburls to my inbox,nasrin\n",
      "\n",
      "keep up the good work,visesha\n",
      "\n",
      "do submit your githuburls to my inbox,visesha\n",
      "\n",
      "keep up the good work,zeeshan\n",
      "\n",
      "do submit your githuburls to my inbox,zeeshan\n",
      "\n",
      "keep up the good work,kumar\n",
      "\n",
      "do submit your githuburls to my inbox,kumar\n",
      "\n",
      "keep up the good work,arvind\n",
      "\n",
      "do submit your githuburls to my inbox,arvind\n",
      "\n"
     ]
    }
   ],
   "source": [
    "for a in students:\n",
    "    print(f\"keep up the good work,{a}\\n\")\n",
    "    print(f\"do submit your githuburls to my inbox,{a}\\n\")"
   ]
  },
  {
   "cell_type": "code",
   "execution_count": null,
   "id": "e1bcebdf",
   "metadata": {},
   "outputs": [],
   "source": [
    "INTRODUCTION TO TUPLE DATATYPE:\n",
    "    definition: An immutable list is called tuple.\n",
    "    classification: it is an immutable.\n",
    "    it is define by ( )"
   ]
  },
  {
   "cell_type": "code",
   "execution_count": 13,
   "id": "a6df8826",
   "metadata": {},
   "outputs": [],
   "source": [
    "students = ('ananya','nasrin','visesha','zeeshan','kumar','arvind')"
   ]
  },
  {
   "cell_type": "code",
   "execution_count": 14,
   "id": "aa5d9796",
   "metadata": {},
   "outputs": [
    {
     "data": {
      "text/plain": [
       "tuple"
      ]
     },
     "execution_count": 14,
     "metadata": {},
     "output_type": "execute_result"
    }
   ],
   "source": [
    "type(students)"
   ]
  },
  {
   "cell_type": "code",
   "execution_count": null,
   "id": "0b1c943a",
   "metadata": {},
   "outputs": [],
   "source": [
    "# QUESTION: INTERVIEW QUESTION IN A FOR LOOP CAN WE REMOVE THE SPACE AND WRITE THE CODE"
   ]
  },
  {
   "cell_type": "code",
   "execution_count": null,
   "id": "8c714794",
   "metadata": {},
   "outputs": [],
   "source": [
    "# ANS: it is not possible we will getting indentation error."
   ]
  },
  {
   "cell_type": "code",
   "execution_count": null,
   "id": "b683311f",
   "metadata": {},
   "outputs": [],
   "source": [
    "# REQ: i want to change ananya name to sonali in the tuple"
   ]
  },
  {
   "cell_type": "code",
   "execution_count": 15,
   "id": "94e1b3ff",
   "metadata": {},
   "outputs": [
    {
     "ename": "TypeError",
     "evalue": "'tuple' object does not support item assignment",
     "output_type": "error",
     "traceback": [
      "\u001b[1;31m---------------------------------------------------------------------------\u001b[0m",
      "\u001b[1;31mTypeError\u001b[0m                                 Traceback (most recent call last)",
      "Cell \u001b[1;32mIn[15], line 1\u001b[0m\n\u001b[1;32m----> 1\u001b[0m students[\u001b[38;5;241m0\u001b[39m]\u001b[38;5;241m=\u001b[39m\u001b[38;5;124m'\u001b[39m\u001b[38;5;124msonali\u001b[39m\u001b[38;5;124m'\u001b[39m\n",
      "\u001b[1;31mTypeError\u001b[0m: 'tuple' object does not support item assignment"
     ]
    }
   ],
   "source": [
    "students[0]='sonali'"
   ]
  },
  {
   "cell_type": "code",
   "execution_count": null,
   "id": "9fac2268",
   "metadata": {},
   "outputs": [],
   "source": [
    "an immutable list is called a tuple meaning is that we can not edit and \n",
    "alter the data onces the data has been declare.it is fixed"
   ]
  },
  {
   "cell_type": "code",
   "execution_count": null,
   "id": "33807ff4",
   "metadata": {},
   "outputs": [],
   "source": [
    "# REQ: i want to access visesha"
   ]
  },
  {
   "cell_type": "code",
   "execution_count": 16,
   "id": "0c9d1acf",
   "metadata": {},
   "outputs": [
    {
     "name": "stdout",
     "output_type": "stream",
     "text": [
      "visesha\n"
     ]
    }
   ],
   "source": [
    "print(students[2])"
   ]
  },
  {
   "cell_type": "code",
   "execution_count": null,
   "id": "7b6c59c9",
   "metadata": {},
   "outputs": [],
   "source": [
    "# REQ: i want to write foor loop in tuple"
   ]
  },
  {
   "cell_type": "code",
   "execution_count": 17,
   "id": "77281a92",
   "metadata": {},
   "outputs": [
    {
     "name": "stdout",
     "output_type": "stream",
     "text": [
      "ananya\n",
      "nasrin\n",
      "visesha\n",
      "zeeshan\n",
      "kumar\n",
      "arvind\n"
     ]
    }
   ],
   "source": [
    "for a in students:\n",
    "    print(a)"
   ]
  },
  {
   "cell_type": "code",
   "execution_count": null,
   "id": "7d8ba10b",
   "metadata": {},
   "outputs": [],
   "source": []
  }
 ],
 "metadata": {
  "kernelspec": {
   "display_name": "Python 3 (ipykernel)",
   "language": "python",
   "name": "python3"
  },
  "language_info": {
   "codemirror_mode": {
    "name": "ipython",
    "version": 3
   },
   "file_extension": ".py",
   "mimetype": "text/x-python",
   "name": "python",
   "nbconvert_exporter": "python",
   "pygments_lexer": "ipython3",
   "version": "3.10.9"
  }
 },
 "nbformat": 4,
 "nbformat_minor": 5
}
